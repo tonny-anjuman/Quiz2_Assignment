{
 "cells": [
  {
   "cell_type": "code",
   "execution_count": 17,
   "id": "sixth-going",
   "metadata": {},
   "outputs": [],
   "source": [
    "import numpy as np\n",
    "import matplotlib.pyplot as plt\n",
    "import os\n",
    "import cv2\n",
    "from tqdm import tqdm\n",
    "import random"
   ]
  },
  {
   "cell_type": "code",
   "execution_count": 18,
   "id": "parental-termination",
   "metadata": {},
   "outputs": [],
   "source": [
    "dataSet = r\"C:\\Users\\User\\Downloads\\Computer_vision\\New folder\\train\"\n",
    "labels = ['airplane', 'automobile','bird','cat','deer','dog','frog','horse','ship','truck'] #labels in array"
   ]
  },
  {
   "cell_type": "code",
   "execution_count": 7,
   "id": "friendly-shock",
   "metadata": {},
   "outputs": [
    {
     "name": "stderr",
     "output_type": "stream",
     "text": [
      "100%|███████████████████████████████████████████████████████████████████████████| 50000/50000 [04:45<00:00, 175.20it/s]\n",
      "100%|███████████████████████████████████████████████████████████████████████████| 50000/50000 [06:15<00:00, 133.22it/s]\n",
      "100%|███████████████████████████████████████████████████████████████████████████| 50000/50000 [05:57<00:00, 140.05it/s]\n",
      "100%|███████████████████████████████████████████████████████████████████████████| 50000/50000 [06:50<00:00, 121.83it/s]\n",
      "100%|███████████████████████████████████████████████████████████████████████████| 50000/50000 [06:57<00:00, 119.77it/s]\n",
      "100%|███████████████████████████████████████████████████████████████████████████| 50000/50000 [06:33<00:00, 126.97it/s]\n",
      "100%|███████████████████████████████████████████████████████████████████████████| 50000/50000 [07:38<00:00, 109.07it/s]\n",
      "100%|████████████████████████████████████████████████████████████████████████████| 50000/50000 [09:01<00:00, 92.29it/s]\n",
      "100%|████████████████████████████████████████████████████████████████████████████| 50000/50000 [12:21<00:00, 67.43it/s]\n",
      "100%|███████████████████████████████████████████████████████████████████████████| 50000/50000 [07:22<00:00, 112.96it/s]\n"
     ]
    }
   ],
   "source": [
    "path = os.path.join(dataSet, \"train\") #assign path\n",
    "trainData = [] #Train data array\n",
    "imageSize = 100 #image size declare\n",
    "for label in labels:\n",
    "    labelIndex = _CATEGORIES.index(label) #for image label entry\n",
    "    for image in tqdm(os.listdir(path)):\n",
    "        try:\n",
    "            imageArray = cv2.imread(os.path.join(path, image)) #for image array\n",
    "            imageResize = cv2.resize(imageArray, (imageSize, imageSize)) # for image resize\n",
    "            trainData.append([imageResize, labelIndex]) #for append in trainData array\n",
    "        except Exception as e:\n",
    "            pass"
   ]
  },
  {
   "cell_type": "code",
   "execution_count": 9,
   "id": "sustained-sword",
   "metadata": {},
   "outputs": [],
   "source": [
    "random.shuffle(trainData)\n",
    "\n",
    "folderSize = 10000 #image size in a folder\n",
    "\n",
    "folderOne = trainData[0:10000] #create folder one\n",
    "folderTwo = trainData[10000:10000] #create folder two\n",
    "folderThree = trainData[20000:30000] #create folder three\n",
    "folderFour = trainData[30000:40000] #create folder four\n",
    "folderFive = trainData[40000:50000] #create folder five     \n",
    "\n",
    "trainDataOne = folderOne + folderTwo + folderThree + folderFour #four folder in first train data\n",
    "validationDataOne = folderFive #first validation data\n",
    "\n",
    "trainDataTwo = folderOne + folderTwo + folderThree + folderFive #four folder in second train data\n",
    "validationDataTwo = folderFour #second validation data\n",
    "\n",
    "trainDataThree = folderOne + folderTwo + folderFour + folderFive #four folder in third train data\n",
    "validationDataThree = folderThree #third validation data\n",
    "\n",
    "trainDataFour = folderOne + folderThree + folderFour + folderFive #four folder in forth train data\n",
    "validationDataFour = folderTwo #forth validation data\n",
    "\n",
    "trainDataFive = folderTwo + folderThree + folderFour + folderFive #four folder in fifth train data\n",
    "validationDataFive = folderOne #fifth validation data"
   ]
  },
  {
   "cell_type": "code",
   "execution_count": 12,
   "id": "regulated-modern",
   "metadata": {},
   "outputs": [
    {
     "name": "stderr",
     "output_type": "stream",
     "text": [
      "100%|█████████████████████████████████████████████████████████████████████████████████| 10/10 [00:00<00:00, 139.27it/s]\n",
      "100%|█████████████████████████████████████████████████████████████████████████████████| 10/10 [00:00<00:00, 141.22it/s]\n",
      "100%|█████████████████████████████████████████████████████████████████████████████████| 10/10 [00:00<00:00, 125.97it/s]\n",
      "100%|█████████████████████████████████████████████████████████████████████████████████| 10/10 [00:00<00:00, 105.55it/s]\n",
      "100%|█████████████████████████████████████████████████████████████████████████████████| 10/10 [00:00<00:00, 125.34it/s]\n"
     ]
    }
   ],
   "source": [
    "K = []\n",
    "for i in range(5):\n",
    "    count = [0]*20 \n",
    "    if(i == 0):\n",
    "        for v in tqdm(validationDataOne):\n",
    "            sumcatimgArray = [] \n",
    "            for t in trainDataOne:\n",
    "                dis = np.abs(v[0] - t[0]) #validation image to train image distance\n",
    "                summ = np.sum(dis) # summation of distance\n",
    "                sumcatimg = [summ, t[1], t[0]] # summation,catagory,image entry\n",
    "                sumcatimgArray.append(sumcatimg) #sumcatimg append in sumcatimgArray\n",
    "   \n",
    "            sumcatimgArray.sort(key = lambda x: x[0]) #sumcatimgArray sort using by lambda\n",
    "                \n",
    "            \n",
    "            c = 0 # 1\n",
    "            for j in range(20):# j=1\n",
    "                if(v[1] == sumcatimgArray[j][1]): #check sumcatimgArray equal or not of validation image \n",
    "                    c = c+1\n",
    "                if(c/(j+1)> 0.5):# k=1 for valid 2nd img\n",
    "                    count[j] +=1\n",
    "        gpoints=[]#[10,10,10,0,0]\n",
    "        for j in range(20):#j=0\n",
    "            gpoints.append((count[j]/folderSize)*100)\n",
    "        K.append(gpoints)\n",
    "        \n",
    "    if(i == 1):\n",
    "        for v in tqdm(validationDataTwo):\n",
    "            sumcatimgArray = [] \n",
    "            for t in trainDataTwo:\n",
    "                dis = np.abs(v[0] - t[0]) #validation image to train image distance\n",
    "                summ = np.sum(dis) # summation of distance\n",
    "                sumcatimg = [summ, t[1], t[0]] # summation,catagory,image entry\n",
    "                sumcatimgArray.append(sumcatimg) #sumcatimg append in sumcatimgArray\n",
    "   \n",
    "            sumcatimgArray.sort(key = lambda x: x[0]) #sumcatimgArray sort using by lambda\n",
    "                \n",
    "            \n",
    "            c = 0 # 1\n",
    "            for j in range(20):# j=1\n",
    "                if(v[1] == sumcatimgArray[j][1]): #check sumcatimgArray equal or not of validation image \n",
    "                    c = c+1\n",
    "                if(c/(j+1)> 0.5):# k=1 for valid 2nd img\n",
    "                    count[j] +=1\n",
    "        gpoints=[]#[10,10,10,0,0]\n",
    "        for j in range(20):#j=0\n",
    "            gpoints.append((count[j]/folderSize)*100)\n",
    "        K.append(gpoints)\n",
    "        \n",
    "    if(i == 2):\n",
    "        for v in tqdm(validationDataThree):\n",
    "            sumcatimgArray = [] \n",
    "            for t in trainDataThree:\n",
    "                dis = np.abs(v[0] - t[0]) #validation image to train image distance\n",
    "                summ = np.sum(dis) # summation of distance\n",
    "                sumcatimg = [summ, t[1], t[0]] # summation,catagory,image entry\n",
    "                sumcatimgArray.append(sumcatimg) #sumcatimg append in sumcatimgArray\n",
    "   \n",
    "            sumcatimgArray.sort(key = lambda x: x[0]) #sumcatimgArray sort using by lambda\n",
    "                \n",
    "            \n",
    "            c = 0 # 1\n",
    "            for j in range(20):# j=1\n",
    "                if(v[1] == sumcatimgArray[j][1]): #check sumcatimgArray equal or not of validation image \n",
    "                    c = c+1\n",
    "                if(c/(j+1)> 0.5):# k=1 for valid 2nd img\n",
    "                    count[j] +=1\n",
    "        gpoints=[]#[10,10,10,0,0]\n",
    "        for j in range(20):#j=0\n",
    "            gpoints.append((count[j]/folderSize)*100)\n",
    "        K.append(gpoints)      \n",
    "    \n",
    "    if(i == 3):\n",
    "        for v in tqdm(validationDataFour):\n",
    "            sumcatimgArray = [] \n",
    "            for t in trainDataFour:\n",
    "                dis = np.abs(v[0] - t[0]) #validation image to train image distance\n",
    "                summ = np.sum(dis) # summation of distance\n",
    "                sumcatimg = [summ, t[1], t[0]] # summation,catagory,image entry\n",
    "                sumcatimgArray.append(sumcatimg) #sumcatimg append in sumcatimgArray\n",
    "   \n",
    "            sumcatimgArray.sort(key = lambda x: x[0]) #sumcatimgArray sort using by lambda\n",
    "                \n",
    "            \n",
    "            c = 0 # 1\n",
    "            for j in range(20):# j=1\n",
    "                if(v[1] == sumcatimgArray[j][1]): #check sumcatimgArray equal or not of validation image \n",
    "                    c = c+1\n",
    "                if(c/(j+1)> 0.5):# k=1 for valid 2nd img\n",
    "                    count[j] +=1\n",
    "        gpoints=[]#[10,10,10,0,0]\n",
    "        for j in range(20):#j=0\n",
    "            gpoints.append((count[j]/folderSize)*100)\n",
    "        K.append(gpoints)\n",
    "\n",
    "    if(i == 4):\n",
    "        for v in tqdm(validationDataFive):\n",
    "            sumcatimgArray = [] \n",
    "            for t in trainDataFive:\n",
    "                dis = np.abs(v[0] - t[0]) #validation image to train image distance\n",
    "                summ = np.sum(dis) # summation of distance\n",
    "                sumcatimg = [summ, t[1], t[0]] # summation,catagory,image entry\n",
    "                sumcatimgArray.append(sumcatimg) #sumcatimg append in sumcatimgArray\n",
    "   \n",
    "            sumcatimgArray.sort(key = lambda x: x[0]) #sumcatimgArray sort using by lambda\n",
    "                \n",
    "            \n",
    "            c = 0 # 1\n",
    "            for j in range(20):# j=1\n",
    "                if(v[1] == sumcatimgArray[j][1]): #check sumcatimgArray equal or not of validation image \n",
    "                    c = c+1\n",
    "                if(c/(j+1)> 0.5):# k=1 for valid 2nd img\n",
    "                    count[j] +=1\n",
    "        gpoints=[]#[10,10,10,0,0]\n",
    "        for j in range(20):#j=0\n",
    "            gpoints.append((count[j]/folderSize)*100)\n",
    "        K.append(gpoints)"
   ]
  },
  {
   "cell_type": "code",
   "execution_count": 16,
   "id": "corrected-grocery",
   "metadata": {},
   "outputs": [
    {
     "name": "stderr",
     "output_type": "stream",
     "text": [
      "<ipython-input-16-16c3c423b225>:11: MatplotlibDeprecationWarning: Adding an axes using the same arguments as a previous axes currently reuses the earlier instance.  In a future version, a new instance will always be created and returned.  Meanwhile, this warning can be suppressed, and the future behavior ensured, by passing a unique label to each axes instance.\n",
      "  ax = plt.axes()\n"
     ]
    },
    {
     "data": {
      "image/png": "[encoded data removed]",
      "text/plain": [
       "<Figure size 432x288 with 1 Axes>"
      ]
     },
     "metadata": {
      "needs_background": "light"
     },
     "output_type": "display_data"
    }
   ],
   "source": [
    "x = [0,1,2,3,4,5,6,7,8,9,10,11,12,13,14,15,16,17,18,19]\n",
    "p=[0]*20\n",
    "for i in range(5):\n",
    "    for j in range(20):\n",
    "        p[j]=p[j]+K[i][j]/5\n",
    "        plt.plot(j,K[i][j],'.')\n",
    "\n",
    "for i in range(20):\n",
    "    plt.plot(i,p[i],'o')\n",
    "\n",
    "ax = plt.axes()\n",
    "ax.plot(x, (p));\n",
    "\n",
    "plt.title('Cross Validation of k')\n",
    "plt.xlabel('k')\n",
    "plt.ylabel('accuracy')\n",
    "\n",
    "plt.show()"
   ]
  },
  {
   "cell_type": "code",
   "execution_count": null,
   "id": "casual-berry",
   "metadata": {},
   "outputs": [],
   "source": []
  }
 ],
 "metadata": {
  "kernelspec": {
   "display_name": "Python 3",
   "language": "python",
   "name": "python3"
  },
  "language_info": {
   "codemirror_mode": {
    "name": "ipython",
    "version": 3
   },
   "file_extension": ".py",
   "mimetype": "text/x-python",
   "name": "python",
   "nbconvert_exporter": "python",
   "pygments_lexer": "ipython3",
   "version": "3.9.1"
  }
 },
 "nbformat": 4,
 "nbformat_minor": 5
}
